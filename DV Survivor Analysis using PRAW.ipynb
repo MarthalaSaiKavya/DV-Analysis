{
 "cells": [
  {
   "cell_type": "code",
   "execution_count": 1,
   "id": "d88eb7d8",
   "metadata": {},
   "outputs": [],
   "source": [
    "from pprint import pprint \n",
    "import pandas as pd\n",
    "import numpy as np\n",
    "import matplotlib.pyplot as plt\n",
    "import seaborn as sns"
   ]
  },
  {
   "cell_type": "code",
   "execution_count": 2,
   "id": "40537a0e",
   "metadata": {},
   "outputs": [],
   "source": [
    "import praw\n",
    "user_agent=\"Scraper 1.0 by /u/kav_yay\"\n",
    "reddit=praw.Reddit(\n",
    "client_id=\"YCp6d62ye13q-A\",\n",
    "client_secret=\"ytcu1vnZJyHO_pK2PZC_fX2Q6ImfSA\",\n",
    "user_agent=user_agent\n",
    ")"
   ]
  },
  {
   "cell_type": "code",
   "execution_count": 3,
   "id": "43659f5e",
   "metadata": {},
   "outputs": [],
   "source": [
    "title_list = []\n",
    "num_comments_list = []\n",
    "link_flair_text_list = []\n",
    "body_list = []"
   ]
  },
  {
   "cell_type": "code",
   "execution_count": 4,
   "id": "81225480",
   "metadata": {},
   "outputs": [],
   "source": [
    "flairs=[\"TW Multiple Trigger Warning\",\"TW Physical Violence\",\"Preparing To Leave\",\"TW: Threats of Violence\"]"
   ]
  },
  {
   "cell_type": "code",
   "execution_count": 5,
   "id": "30bd4be7",
   "metadata": {},
   "outputs": [],
   "source": [
    "subreddit = reddit.subreddit('domesticviolence')\n",
    "hot_post = subreddit.hot(limit=None)\n",
    "for sub in hot_post:\n",
    "    if sub.link_flair_text==\"TW Multiple Trigger Warning\" or sub.link_flair_text==\"TW Physical Violence\" or sub.link_flair_text==\"Preparing To Leave\" or sub.link_flair_text==\"TW: Threats of Violence\":\n",
    "        title_list.append(sub.title)\n",
    "        link_flair_text_list.append(sub.link_flair_text)\n",
    "        num_comments_list.append(sub.num_comments)\n",
    "        body_list.append(sub.selftext)"
   ]
  },
  {
   "cell_type": "code",
   "execution_count": 6,
   "id": "c321a300",
   "metadata": {},
   "outputs": [],
   "source": [
    "df = pd.DataFrame({ 'Title':title_list,\n",
    "                   'Count_of_Comments':num_comments_list,\n",
    "                   'Body':body_list,\n",
    "                   'Flair':link_flair_text_list\n",
    "                  })\n",
    "df.to_csv('DV2.csv', index = False)\n"
   ]
  },
  {
   "cell_type": "code",
   "execution_count": 7,
   "id": "fc742fff",
   "metadata": {},
   "outputs": [
    {
     "data": {
      "text/plain": [
       "429"
      ]
     },
     "execution_count": 7,
     "metadata": {},
     "output_type": "execute_result"
    }
   ],
   "source": [
    "len(df)"
   ]
  },
  {
   "cell_type": "code",
   "execution_count": null,
   "id": "350080d1",
   "metadata": {},
   "outputs": [],
   "source": []
  },
  {
   "cell_type": "code",
   "execution_count": null,
   "id": "66cb138f",
   "metadata": {},
   "outputs": [],
   "source": []
  },
  {
   "cell_type": "code",
   "execution_count": null,
   "id": "9ecc13cb",
   "metadata": {},
   "outputs": [],
   "source": []
  }
 ],
 "metadata": {
  "kernelspec": {
   "display_name": "Python 3",
   "language": "python",
   "name": "python3"
  },
  "language_info": {
   "codemirror_mode": {
    "name": "ipython",
    "version": 3
   },
   "file_extension": ".py",
   "mimetype": "text/x-python",
   "name": "python",
   "nbconvert_exporter": "python",
   "pygments_lexer": "ipython3",
   "version": "3.8.8"
  }
 },
 "nbformat": 4,
 "nbformat_minor": 5
}
