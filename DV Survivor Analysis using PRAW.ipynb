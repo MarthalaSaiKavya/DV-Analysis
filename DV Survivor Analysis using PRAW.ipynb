{
 "cells": [
  {
   "cell_type": "code",
   "execution_count": 1,
   "id": "d88eb7d8",
   "metadata": {},
   "outputs": [],
   "source": [
    "from pprint import pprint \n",
    "import pandas as pd\n",
    "import numpy as np\n",
    "import matplotlib.pyplot as plt\n",
    "import seaborn as sns"
   ]
  },
  {
   "cell_type": "code",
   "execution_count": 2,
   "id": "40537a0e",
   "metadata": {},
   "outputs": [],
   "source": [
    "import praw\n",
    "user_agent=\"Scraper 1.0 by /u/kav_yay\"\n",
    "reddit=praw.Reddit(\n",
    "client_id=\"YCp6d62ye13q-A\",\n",
    "client_secret=\"ytcu1vnZJyHO_pK2PZC_fX2Q6ImfSA\",\n",
    "user_agent=user_agent\n",
    ")"
   ]
  },
  {
   "cell_type": "code",
   "execution_count": 3,
   "id": "43659f5e",
   "metadata": {},
   "outputs": [],
   "source": [
    "title_list = []\n",
    "num_comments_list = []\n",
    "link_flair_text_list = []\n",
    "body_list = []"
   ]
  },
  {
   "cell_type": "code",
   "execution_count": 4,
   "id": "81225480",
   "metadata": {},
   "outputs": [],
   "source": [
    "flairs=[\"TW Multiple Trigger Warning\",\"TW Physical Violence\",\"Preparing To Leave\",\"TW: Threats of Violence\"]"
   ]
  },
  {
   "cell_type": "code",
   "execution_count": 5,
   "id": "30bd4be7",
   "metadata": {},
   "outputs": [],
   "source": [
    "subreddit = reddit.subreddit('domesticviolence')\n",
    "hot_post = subreddit.hot(limit=None)\n",
    "for sub in hot_post:\n",
    "    if sub.link_flair_text==\"TW Multiple Trigger Warning\" or sub.link_flair_text==\"TW Physical Violence\" or sub.link_flair_text==\"Preparing To Leave\" or sub.link_flair_text==\"TW: Threats of Violence\":\n",
    "        title_list.append(sub.title)\n",
    "        link_flair_text_list.append(sub.link_flair_text)\n",
    "        num_comments_list.append(sub.num_comments)\n",
    "        body_list.append(sub.selftext)"
   ]
  },
  {
   "cell_type": "code",
   "execution_count": 6,
   "id": "c321a300",
   "metadata": {},
   "outputs": [],
   "source": [
    "df = pd.DataFrame({ 'Title':title_list,\n",
    "                   'Count_of_Comments':num_comments_list,\n",
    "                   'Body':body_list,\n",
    "                   'Flair':link_flair_text_list\n",
    "                  })\n",
    "df.to_csv('DV_praw.csv', index = False)\n"
   ]
  },
  {
   "cell_type": "code",
   "execution_count": 7,
   "id": "fc742fff",
   "metadata": {},
   "outputs": [
    {
     "data": {
      "text/plain": [
       "450"
      ]
     },
     "execution_count": 7,
     "metadata": {},
     "output_type": "execute_result"
    }
   ],
   "source": [
    "len(df)"
   ]
  },
  {
   "cell_type": "code",
   "execution_count": 8,
   "id": "350080d1",
   "metadata": {},
   "outputs": [
    {
     "name": "stderr",
     "output_type": "stream",
     "text": [
      "C:\\Users\\saika\\Anaconda3\\lib\\site-packages\\gensim\\similarities\\__init__.py:15: UserWarning: The gensim.similarities.levenshtein submodule is disabled, because the optional Levenshtein package <https://pypi.org/project/python-Levenshtein/> is unavailable. Install Levenhstein (e.g. `pip install python-Levenshtein`) to suppress this warning.\n",
      "  warnings.warn(msg)\n"
     ]
    }
   ],
   "source": [
    "#Basic Libraries\n",
    "import re\n",
    "import sys\n",
    "# Gensim\n",
    "import gensim\n",
    "import gensim.corpora as corpora\n",
    "from gensim.utils import simple_preprocess\n",
    "from gensim.models import CoherenceModel\n",
    "# spacy for lemmatization\n",
    "import spacy\n",
    "# Plotting tools\n",
    "import pyLDAvis\n",
    "import pyLDAvis.gensim_models\n",
    "import logging\n",
    "logging.basicConfig(format='%(asctime)s : %(levelname)s : %(message)s', level=logging.ERROR)\n",
    "import warnings\n",
    "warnings.filterwarnings(\"ignore\",category=DeprecationWarning)\n",
    "\n",
    "from topic_model_function import *"
   ]
  },
  {
   "cell_type": "code",
   "execution_count": 9,
   "id": "96ec23d2",
   "metadata": {},
   "outputs": [],
   "source": [
    "# NLTK Stop words\n",
    "from nltk.corpus import stopwords\n",
    "stop_words = stopwords.words('english')\n",
    "stop_words.extend(['from','subject','re','edu','use','domestic','abuse','violence','relationship','physical','dv','leave'])"
   ]
  },
  {
   "cell_type": "code",
   "execution_count": 10,
   "id": "3bfd19be",
   "metadata": {},
   "outputs": [],
   "source": [
    "#Load Dataset\n",
    "df=pd.read_csv('DV_praw.csv')\n",
    "#getting rid of NaN\n",
    "df=df.replace(np.nan, '', regex=True)\n",
    "#getting rid of deleted values\n",
    "df['Body']=df['Body'].replace('[deleted]','')\n",
    "#Combining title and text\n",
    "df[\"Post\"] = df[\"Title\"] + df[\"Body\"]\n",
    "#Now that we don't need Title or Text, we drop those columns before saving the file\n",
    "df=df.drop(['Title', 'Body'], axis = 1)"
   ]
  },
  {
   "cell_type": "code",
   "execution_count": 11,
   "id": "b173a4f0",
   "metadata": {},
   "outputs": [],
   "source": [
    "df=df.loc[:, ~df.columns.str.contains('^Unnamed')]"
   ]
  },
  {
   "cell_type": "code",
   "execution_count": 12,
   "id": "585e563b",
   "metadata": {},
   "outputs": [
    {
     "data": {
      "text/html": [
       "<div>\n",
       "<style scoped>\n",
       "    .dataframe tbody tr th:only-of-type {\n",
       "        vertical-align: middle;\n",
       "    }\n",
       "\n",
       "    .dataframe tbody tr th {\n",
       "        vertical-align: top;\n",
       "    }\n",
       "\n",
       "    .dataframe thead th {\n",
       "        text-align: right;\n",
       "    }\n",
       "</style>\n",
       "<table border=\"1\" class=\"dataframe\">\n",
       "  <thead>\n",
       "    <tr style=\"text-align: right;\">\n",
       "      <th></th>\n",
       "      <th>Count_of_Comments</th>\n",
       "      <th>Flair</th>\n",
       "      <th>Post</th>\n",
       "    </tr>\n",
       "  </thead>\n",
       "  <tbody>\n",
       "    <tr>\n",
       "      <th>0</th>\n",
       "      <td>6</td>\n",
       "      <td>TW Multiple Trigger Warning</td>\n",
       "      <td>Why do I feel so bad that my abuser is probabl...</td>\n",
       "    </tr>\n",
       "    <tr>\n",
       "      <th>1</th>\n",
       "      <td>1</td>\n",
       "      <td>TW Multiple Trigger Warning</td>\n",
       "      <td>It’s been a year.We had that once in a lifetim...</td>\n",
       "    </tr>\n",
       "    <tr>\n",
       "      <th>2</th>\n",
       "      <td>3</td>\n",
       "      <td>TW Multiple Trigger Warning</td>\n",
       "      <td>GratefulHello!\\nI’m a little (very) tipsy righ...</td>\n",
       "    </tr>\n",
       "    <tr>\n",
       "      <th>3</th>\n",
       "      <td>8</td>\n",
       "      <td>TW Physical Violence</td>\n",
       "      <td>There’s nothing left you can do to meAfter\\n- ...</td>\n",
       "    </tr>\n",
       "    <tr>\n",
       "      <th>4</th>\n",
       "      <td>5</td>\n",
       "      <td>TW Physical Violence</td>\n",
       "      <td>How did you officially cut ties with your abus...</td>\n",
       "    </tr>\n",
       "  </tbody>\n",
       "</table>\n",
       "</div>"
      ],
      "text/plain": [
       "   Count_of_Comments                        Flair  \\\n",
       "0                  6  TW Multiple Trigger Warning   \n",
       "1                  1  TW Multiple Trigger Warning   \n",
       "2                  3  TW Multiple Trigger Warning   \n",
       "3                  8         TW Physical Violence   \n",
       "4                  5         TW Physical Violence   \n",
       "\n",
       "                                                Post  \n",
       "0  Why do I feel so bad that my abuser is probabl...  \n",
       "1  It’s been a year.We had that once in a lifetim...  \n",
       "2  GratefulHello!\\nI’m a little (very) tipsy righ...  \n",
       "3  There’s nothing left you can do to meAfter\\n- ...  \n",
       "4  How did you officially cut ties with your abus...  "
      ]
     },
     "execution_count": 12,
     "metadata": {},
     "output_type": "execute_result"
    }
   ],
   "source": [
    "df.head()"
   ]
  },
  {
   "cell_type": "code",
   "execution_count": 13,
   "id": "98e4cb81",
   "metadata": {},
   "outputs": [],
   "source": [
    "# Convert to list\n",
    "data=df.Post.values.tolist()\n",
    "# Remove new line characters\n",
    "data=[re.sub('\\s+', ' ', sent) for sent in data]\n",
    "# Remove distracting single quotes\n",
    "data=[re.sub(\"\\'\", \"\", sent) for sent in data]"
   ]
  },
  {
   "cell_type": "code",
   "execution_count": 14,
   "id": "4873531e",
   "metadata": {},
   "outputs": [],
   "source": [
    "#Function to clean up text\n",
    "def sent_to_words(sentences):\n",
    "    for sentence in sentences:\n",
    "        yield(gensim.utils.simple_preprocess(str(sentence), deacc=True)) "
   ]
  },
  {
   "cell_type": "code",
   "execution_count": 15,
   "id": "0504747c",
   "metadata": {},
   "outputs": [
    {
     "name": "stdout",
     "output_type": "stream",
     "text": [
      "[['why', 'do', 'feel', 'so', 'bad', 'that', 'my', 'abuser', 'is', 'probably', 'going', 'to', 'jail', 'left', 'my', 'ex', 'husband', 'years', 'ago', 'after', 'he', 'strangled', 'me', 'we', 'have', 'child', 'together', 'who', 'was', 'months', 'old', 'at', 'the', 'time', 'called', 'the', 'cops', 'and', 'left', 'and', 'got', 'an', 'order', 'of', 'protection', 'he', 'was', 'given', 'supervised', 'visitation', 'for', 'years', 'he', 'was', 'also', 'charged', 'by', 'the', 'states', 'attorneys', 'office', 'since', 'didnt', 'press', 'charges', 'they', 'charged', 'him', 'with', 'felony', 'for', 'aggravated', 'domestic', 'battery', 'strangulation', 'felony', 'for', 'unlawful', 'restraint', 'and', 'misdemeanors', 'for', 'domestic', 'battery', 'they', 'dropped', 'the', 'aggravated', 'domestic', 'battery', 'strangulation', 'charge', 'and', 'he', 'accepted', 'plea', 'deal', 'for', 'the', 'unlawful', 'restraint', 'charge', 'they', 'gave', 'him', 'years', 'of', 'probation', 'and', 'required', 'him', 'to', 'do', 'batterers', 'intervention', 'classes', 'and', 'community', 'service', 'we', 'got', 'divorced', 'and', 'won', 'full', 'custody', 'but', 'he', 'was', 'given', 'unsupervised', 'visits', 'half', 'the', 'time', 'since', 'he', 'was', 'on', 'good', 'behavior', 'for', 'couple', 'of', 'years', 'things', 'were', 'good', 'for', 'while', 'until', 'he', 'recently', 'abused', 'our', 'year', 'old', 'son', 'by', 'spanking', 'him', 'so', 'hard', 'that', 'he', 'left', 'very', 'deep', 'bruise', 'in', 'the', 'shape', 'of', 'hand', 'on', 'his', 'butt', 'he', 'was', 'very', 'traumatized', 'from', 'it', 'was', 'scared', 'for', 'him', 'to', 'go', 'back', 'to', 'him', 'unsupervised', 'so', 'reported', 'it', 'to', 'the', 'police', 'and', 'got', 'an', 'emergency', 'op', 'for', 'me', 'and', 'our', 'son', 'cps', 'also', 'became', 'involved', 'then', 'we', 'went', 'back', 'for', 'plenary', 'op', 'he', 'admitted', 'the', 'abuse', 'to', 'the', 'judge', 'but', 'she', 'still', 'allowed', 'him', 'to', 'continue', 'with', 'the', 'unsupervised', 'visits', 'anyways', 'well', 'the', 'day', 'that', 'he', 'admitted', 'the', 'abuse', 'to', 'the', 'judge', 'he', 'was', 'sent', 'notice', 'for', 'his', 'probation', 'to', 'be', 'revoked', 'and', 'for', 'him', 'to', 'be', 'resentenced', 'when', 'he', 'was', 'originally', 'convicted', 'the', 'states', 'attorneys', 'office', 'said', 'that', 'the', 'first', 'offense', 'would', 'be', 'probation', 'and', 'the', 'nd', 'offense', 'would', 'be', 'jail', 'time', 'so', 'hes', 'probably', 'going', 'to', 'jail', 'but', 'why', 'do', 'feel', 'so', 'guilty', 'and', 'responsible', 'for', 'reporting', 'him', 'he', 'has', 'car', 'and', 'house', 'and', 'is', 'trying', 'to', 'start', 'business', 'and', 'he', 'has', 'his', 'other', 'child', 'with', 'him', 'full', 'time', 'feel', 'like', 'im', 'ruining', 'his', 'life', 'part', 'of', 'me', 'feels', 'bad', 'but', 'the', 'other', 'part', 'of', 'me', 'knows', 'did', 'the', 'right', 'thing', 'bc', 'im', 'worried', 'for', 'my', 'sons', 'safety', 'and', 'dont', 'want', 'him', 'to', 'turn', 'out', 'with', 'all', 'kinds', 'of', 'problems', 'like', 'his', 'dad', 'bc', 'of', 'the', 'abuse', 'and', 'he', 'already', 'shows', 'signs', 'of', 'child', 'who', 'has', 'endured', 'trauma', 'but', 'hes', 'so', 'young', 'so', 'feel', 'like', 'have', 'good', 'chance', 'of', 'him', 'healing', 'from', 'this', 'he', 'starts', 'therapy', 'soon', 'hate', 'how', 'empathetic', 'can', 'be', 'bc', 'it', 'makes', 'me', 'feel', 'sorry', 'for', 'jerks', 'too', 'just', 'know', 'that', 'jail', 'is', 'terrible', 'place', 'to', 'be', 'so', 'feel', 'really', 'bad', 'for', 'him', 'but', 'on', 'the', 'other', 'hand', 'know', 'im', 'saving', 'my', 'kid', 'his', 'other', 'kid', 'and', 'his', 'current', 'girlfriend', 'from', 'any', 'kind', 'of', 'abuse', 'he', 'made', 'my', 'life', 'living', 'hell', 'and', 'hes', 'truly', 'an', 'evil', 'person', 'so', 'thought', 'id', 'be', 'happy', 'about', 'this', 'but', 'instead', 'its', 'making', 'me', 'really', 'depressed', 'anyone', 'else', 'feel', 'similarly']]\n"
     ]
    }
   ],
   "source": [
    "#Clean up text\n",
    "data_words=list(sent_to_words(data))\n",
    "print(data_words[:1])"
   ]
  },
  {
   "cell_type": "code",
   "execution_count": 16,
   "id": "c0b1443c",
   "metadata": {},
   "outputs": [],
   "source": [
    "# Build the bigram and trigram models\n",
    "bigram=gensim.models.Phrases(data_words, min_count=5, threshold=100) # higher threshold fewer phrases.\n",
    "trigram=gensim.models.Phrases(bigram[data_words], threshold=100)"
   ]
  },
  {
   "cell_type": "code",
   "execution_count": 17,
   "id": "bfa8162b",
   "metadata": {},
   "outputs": [],
   "source": [
    "# Faster way to get a sentence clubbed as a trigram/bigram\n",
    "bigram_mod=gensim.models.phrases.Phraser(bigram)\n",
    "trigram_mod=gensim.models.phrases.Phraser(trigram)"
   ]
  },
  {
   "cell_type": "code",
   "execution_count": 18,
   "id": "ef741f1c",
   "metadata": {},
   "outputs": [
    {
     "name": "stdout",
     "output_type": "stream",
     "text": [
      "['why', 'do', 'feel', 'so', 'bad', 'that', 'my', 'abuser', 'is', 'probably', 'going', 'to', 'jail', 'left', 'my', 'ex', 'husband', 'years', 'ago', 'after', 'he', 'strangled', 'me', 'we', 'have', 'child', 'together', 'who', 'was', 'months', 'old', 'at', 'the', 'time', 'called', 'the', 'cops', 'and', 'left', 'and', 'got', 'an', 'order', 'of', 'protection', 'he', 'was', 'given', 'supervised', 'visitation', 'for', 'years', 'he', 'was', 'also', 'charged', 'by', 'the', 'states', 'attorneys', 'office', 'since', 'didnt', 'press_charges', 'they', 'charged', 'him', 'with', 'felony', 'for', 'aggravated', 'domestic', 'battery', 'strangulation', 'felony', 'for', 'unlawful', 'restraint', 'and', 'misdemeanors', 'for', 'domestic', 'battery', 'they', 'dropped', 'the', 'aggravated', 'domestic', 'battery', 'strangulation', 'charge', 'and', 'he', 'accepted', 'plea', 'deal', 'for', 'the', 'unlawful', 'restraint', 'charge', 'they', 'gave', 'him', 'years', 'of', 'probation', 'and', 'required', 'him', 'to', 'do', 'batterers', 'intervention', 'classes', 'and', 'community', 'service', 'we', 'got', 'divorced', 'and', 'won', 'full', 'custody', 'but', 'he', 'was', 'given', 'unsupervised', 'visits', 'half', 'the', 'time', 'since', 'he', 'was', 'on', 'good', 'behavior', 'for', 'couple', 'of', 'years', 'things', 'were', 'good', 'for', 'while', 'until', 'he', 'recently', 'abused', 'our', 'year_old', 'son', 'by', 'spanking', 'him', 'so', 'hard', 'that', 'he', 'left', 'very', 'deep', 'bruise', 'in', 'the', 'shape', 'of', 'hand', 'on', 'his', 'butt', 'he', 'was', 'very', 'traumatized', 'from', 'it', 'was', 'scared', 'for', 'him', 'to', 'go', 'back', 'to', 'him', 'unsupervised', 'so', 'reported', 'it', 'to', 'the', 'police', 'and', 'got', 'an', 'emergency', 'op', 'for', 'me', 'and', 'our', 'son', 'cps', 'also', 'became', 'involved', 'then', 'we', 'went', 'back', 'for', 'plenary', 'op', 'he', 'admitted', 'the', 'abuse', 'to', 'the', 'judge', 'but', 'she', 'still', 'allowed', 'him', 'to', 'continue', 'with', 'the', 'unsupervised', 'visits', 'anyways', 'well', 'the', 'day', 'that', 'he', 'admitted', 'the', 'abuse', 'to', 'the', 'judge', 'he', 'was', 'sent', 'notice', 'for', 'his', 'probation', 'to', 'be', 'revoked', 'and', 'for', 'him', 'to', 'be', 'resentenced', 'when', 'he', 'was', 'originally', 'convicted', 'the', 'states', 'attorneys', 'office', 'said', 'that', 'the', 'first', 'offense', 'would', 'be', 'probation', 'and', 'the', 'nd', 'offense', 'would', 'be', 'jail', 'time', 'so', 'hes', 'probably', 'going', 'to', 'jail', 'but', 'why', 'do', 'feel', 'so', 'guilty', 'and', 'responsible', 'for', 'reporting', 'him', 'he', 'has', 'car', 'and', 'house', 'and', 'is', 'trying', 'to', 'start', 'business', 'and', 'he', 'has', 'his', 'other', 'child', 'with', 'him', 'full', 'time', 'feel', 'like', 'im', 'ruining', 'his', 'life', 'part', 'of', 'me', 'feels', 'bad', 'but', 'the', 'other', 'part', 'of', 'me', 'knows', 'did', 'the', 'right', 'thing', 'bc', 'im', 'worried', 'for', 'my', 'sons', 'safety', 'and', 'dont', 'want', 'him', 'to', 'turn', 'out', 'with', 'all', 'kinds', 'of', 'problems', 'like', 'his', 'dad', 'bc', 'of', 'the', 'abuse', 'and', 'he', 'already', 'shows', 'signs', 'of', 'child', 'who', 'has', 'endured', 'trauma', 'but', 'hes', 'so', 'young', 'so', 'feel', 'like', 'have', 'good', 'chance', 'of', 'him', 'healing', 'from', 'this', 'he', 'starts', 'therapy', 'soon', 'hate', 'how', 'empathetic', 'can', 'be', 'bc', 'it', 'makes', 'me', 'feel', 'sorry', 'for', 'jerks', 'too', 'just', 'know', 'that', 'jail', 'is', 'terrible', 'place', 'to', 'be', 'so', 'feel', 'really', 'bad', 'for', 'him', 'but', 'on', 'the', 'other', 'hand', 'know', 'im', 'saving', 'my', 'kid', 'his', 'other', 'kid', 'and', 'his', 'current', 'girlfriend', 'from', 'any', 'kind', 'of', 'abuse', 'he', 'made', 'my', 'life', 'living', 'hell', 'and', 'hes', 'truly', 'an', 'evil', 'person', 'so', 'thought', 'id', 'be', 'happy', 'about', 'this', 'but', 'instead', 'its', 'making', 'me', 'really', 'depressed', 'anyone_else', 'feel', 'similarly']\n"
     ]
    }
   ],
   "source": [
    "# See trigram example\n",
    "print(trigram_mod[bigram_mod[data_words[0]]])"
   ]
  },
  {
   "cell_type": "code",
   "execution_count": 19,
   "id": "1957377e",
   "metadata": {},
   "outputs": [],
   "source": [
    "# Define functions for stopwords, bigrams, trigrams and lemmatization\n",
    "def remove_stopwords(texts):\n",
    "    return [[word for word in simple_preprocess(str(doc)) if word not in stop_words] for doc in texts]"
   ]
  },
  {
   "cell_type": "code",
   "execution_count": 20,
   "id": "0ff2b0d1",
   "metadata": {},
   "outputs": [],
   "source": [
    "def make_bigrams(texts):\n",
    "    return [bigram_mod[doc] for doc in texts]\n",
    "\n",
    "def make_trigrams(texts):\n",
    "    return [trigram_mod[bigram_mod[doc]] for doc in texts]\n",
    "\n",
    "def lemmatization(texts, allowed_postags=['NOUN', 'ADJ', 'VERB', 'ADV']):\n",
    "    \"\"\"https://spacy.io/api/annotation\"\"\"\n",
    "    texts_out = []\n",
    "    for sent in texts:\n",
    "        doc = nlp(\" \".join(sent))\n",
    "        texts_out.append([token.lemma_ for token in doc if token.pos_ in allowed_postags])\n",
    "    return texts_out"
   ]
  },
  {
   "cell_type": "code",
   "execution_count": 21,
   "id": "d2749252",
   "metadata": {},
   "outputs": [
    {
     "name": "stdout",
     "output_type": "stream",
     "text": [
      "[['feel', 'bad', 'abuser', 'probably', 'go', 'jail', 'leave', 'ex', 'husband', 'year', 'ago', 'strangle', 'child', 'together', 'month', 'old', 'time', 'call', 'cop', 'leave', 'get', 'order', 'protection', 'give', 'supervise', 'visitation', 'year', 'also', 'charge', 'state', 'attorney', 'office', 'press_charge', 'charge', 'felony', 'aggravate', 'battery', 'strangulation', 'felony', 'unlawful', 'restraint', 'misdemeanor', 'battery', 'drop', 'aggravate', 'battery', 'strangulation', 'charge', 'accept', 'plea', 'deal', 'unlawful', 'restraint', 'charge', 'give', 'year', 'probation', 'require', 'batterer', 'intervention', 'class', 'community', 'service', 'divorce', 'full', 'custody', 'give', 'unsupervised', 'visit', 'half', 'time', 'good', 'behavior', 'couple', 'year', 'thing', 'good', 'recently', 'abuse', 'son', 'spank', 'hard', 'left', 'deep', 'bruise', 'shape', 'hand', 'butt', 'traumatize', 'scare', 'go', 'back', 'unsupervised', 'reported', 'police', 'get', 'emergency', 'op', 'son', 'cps', 'also', 'become', 'involve', 'go', 'back', 'plenary', 'op', 'admit', 'judge', 'still', 'allow', 'continue', 'unsupervised', 'visit', 'anyways', 'well', 'day', 'admit', 'judge', 'send', 'notice', 'probation', 'revoke', 'resentence', 'originally', 'convict', 'state', 'attorney', 'office', 'say', 'first', 'offense', 'probation', 'nd', 'offense', 'jail', 'time', 'probably', 'go', 'jail', 'feel', 'guilty', 'responsible', 'reporting', 'car', 'house', 'try', 'start', 'business', 'child', 'full', 'time', 'feel', 'ruin', 'life', 'part', 'feel', 'bad', 'part', 'know', 'right', 'thing', 'm', 'worried', 'son', 'safety', 'want', 'turn', 'kind', 'problem', 'dad', 'already', 'show', 'sign', 'child', 'endure', 'trauma', 's', 'young', 'feel', 'good', 'chance', 'healing', 'start', 'therapy', 'soon', 'hate', 'empathetic', 'make', 'feel', 'sorry', 'jerk', 'know', 'jail', 'terrible', 'place', 'feel', 'really', 'bad', 'hand', 'know', 'save', 'kid', 'kid', 'current', 'girlfriend', 'kind', 'make', 'life', 'live', 'hell', 's', 'truly', 'evil', 'person', 'think', 'd', 'happy', 'instead', 'make', 'really', 'depressed', 'anyone_else', 'feel', 'similarly']]\n",
      "There are 1809 unique words in the dictionary, 1809 remain after filtering out lest frequent.\n",
      "1809 remain after filtering out most commonly used words based on tfidf scores.\n"
     ]
    }
   ],
   "source": [
    "#----- CHANGED ------#\n",
    "\n",
    "data_words_nostops = remove_stopwords(data_words)\n",
    "data_words_bigrams = make_bigrams(data_words_nostops)\n",
    "\n",
    "# Initialize spacy 'en' model, keeping only tagger component (for efficiency)\n",
    "nlp = spacy.load('en_core_web_sm')\n",
    "\n",
    "# 1. Do lemmatization keeping only noun, adj, vb, adv\n",
    "data_lemmatized = lemmatization(data_words_bigrams, allowed_postags=['NOUN', 'ADJ', 'VERB', 'ADV'])\n",
    "print(data_lemmatized[:1])\n",
    "\n",
    "# 2. Create Dictionary needed for topic modelling\n",
    "id2word = corpora.Dictionary(data_lemmatized)\n",
    "\n",
    "# 3. Create Corpus\n",
    "texts = data_lemmatized\n",
    "\n",
    "# 4. Term Document Frequency and Create a bag of words\n",
    "bow_corpus = bow(dictionary=id2word, processed_docs=texts)\n",
    "\n",
    "# 5. Calculate low_tfidf_words\n",
    "# Keep only words with tfidf ranking <= x * len(dictionary)\n",
    "x = 0.2\n",
    "total_word_count, DictDocFreq = tf_df(bow_corpus, id2word)\n",
    "sorted_TFIDF = sort_tfidf(bow_corpus, total_word_count, DictDocFreq)\n",
    "low_tfidf_words = get_low_tfidf_words(x, id2word, sorted_TFIDF)\n",
    "\n",
    "# 6. Filter out least frequently used words\n",
    "no_below = 0.01\n",
    "keep_n = 10000\n",
    "dict_least_freq_filtered = filter_least_frequent(id2word, texts, \n",
    "                                                 no_below, keep_n)\n",
    "\n",
    "# 7. Filter out most commonly used words (i.e. words with low TF-IDF score)\n",
    "dict_tfidf_filtered = filter_most_common(dict_least_freq_filtered, low_tfidf_words)\n",
    "\n",
    "# 8. Create the second bag of words - bow_corpus_TFIDFfiltered, \n",
    "# created after least frequently and most commonly used words were filtered out.\n",
    "corpus = bow(dict_tfidf_filtered, texts)\n",
    "\n",
    "# View\n",
    "[[(dict_tfidf_filtered[id], freq) for id, freq in cp] for cp in corpus[:1]]\n",
    "\n",
    "# Build LDA model\n",
    "lda_model = gensim.models.ldamodel.LdaModel(corpus=corpus,\n",
    "                                           id2word=dict_tfidf_filtered,\n",
    "                                           num_topics=20,\n",
    "                                           random_state=100,\n",
    "                                           update_every=1,\n",
    "                                           chunksize=1000,\n",
    "                                           passes=50,\n",
    "                                           alpha='auto',\n",
    "                                           iterations=100,\n",
    "                                           per_word_topics=True)"
   ]
  },
  {
   "cell_type": "code",
   "execution_count": 22,
   "id": "b84d00ff",
   "metadata": {},
   "outputs": [
    {
     "name": "stdout",
     "output_type": "stream",
     "text": [
      "[(0,\n",
      "  '0.017*\"mother\" + 0.012*\"live\" + 0.011*\"see\" + 0.011*\"also\" + 0.010*\"take\" + '\n",
      "  '0.010*\"call\" + 0.010*\"parent\" + 0.009*\"kid\" + 0.009*\"start\" + '\n",
      "  '0.007*\"abusive\"'),\n",
      " (1,\n",
      "  '0.013*\"really\" + 0.013*\"anymore\" + 0.013*\"energy\" + 0.013*\"bond\" + '\n",
      "  '0.013*\"bad\" + 0.013*\"trauma\" + 0.012*\"respect\" + 0.011*\"create\" + '\n",
      "  '0.011*\"amount\" + 0.010*\"information\"'),\n",
      " (2,\n",
      "  '0.026*\"call\" + 0.020*\"charge\" + 0.018*\"arrest\" + 0.014*\"police\" + '\n",
      "  '0.012*\"even\" + 0.012*\"home\" + 0.010*\"assault\" + 0.009*\"mom\" + '\n",
      "  '0.009*\"family\" + 0.009*\"abusive\"'),\n",
      " (3,\n",
      "  '0.025*\"report\" + 0.016*\"ex\" + 0.015*\"bad\" + 0.014*\"back\" + 0.012*\"jail\" + '\n",
      "  '0.011*\"give\" + 0.011*\"life\" + 0.010*\"assault\" + 0.010*\"police\" + 0.009*\"s\"'),\n",
      " (4,\n",
      "  '0.014*\"start\" + 0.011*\"friend\" + 0.011*\"really\" + 0.010*\"think\" + '\n",
      "  '0.010*\"never\" + 0.009*\"back\" + 0.008*\"day\" + 0.008*\"still\" + 0.008*\"talk\" + '\n",
      "  '0.008*\"hit\"'),\n",
      " (5,\n",
      "  '0.016*\"much\" + 0.011*\"bad\" + 0.011*\"move\" + 0.010*\"wrong\" + 0.010*\"stay\" + '\n",
      "  '0.009*\"think\" + 0.009*\"landlord\" + 0.008*\"break\" + 0.008*\"slap\" + '\n",
      "  '0.008*\"ex\"'),\n",
      " (6,\n",
      "  '0.021*\"dog\" + 0.016*\"help\" + 0.015*\"work\" + 0.014*\"threaten\" + 0.012*\"kill\" '\n",
      "  '+ 0.011*\"well\" + 0.011*\"take\" + 0.010*\"abusive\" + 0.009*\"divorce\" + '\n",
      "  '0.009*\"care\"'),\n",
      " (7,\n",
      "  '0.017*\"strangle\" + 0.013*\"laugh\" + 0.012*\"happen\" + 0.011*\"never\" + '\n",
      "  '0.010*\"s\" + 0.010*\"last\" + 0.008*\"good\" + 0.008*\"fight\" + 0.007*\"mom\" + '\n",
      "  '0.007*\"use\"'),\n",
      " (8,\n",
      "  '0.015*\"sister\" + 0.015*\"m\" + 0.014*\"still\" + 0.013*\"car\" + 0.011*\"call\" + '\n",
      "  '0.011*\"work\" + 0.008*\"scared\" + 0.008*\"back\" + 0.008*\"cop\" + 0.008*\"hit\"'),\n",
      " (9,\n",
      "  '0.021*\"d\" + 0.015*\"move\" + 0.013*\"well\" + 0.013*\"leave\" + 0.013*\"back\" + '\n",
      "  '0.011*\"start\" + 0.011*\"dog\" + 0.011*\"love\" + 0.010*\"month\" + 0.010*\"even\"'),\n",
      " (10,\n",
      "  '0.012*\"abusive\" + 0.012*\"home\" + 0.012*\"give\" + 0.011*\"live\" + '\n",
      "  '0.011*\"police\" + 0.009*\"still\" + 0.009*\"m\" + 0.009*\"much\" + 0.009*\"think\" + '\n",
      "  '0.009*\"cause\"'),\n",
      " (11,\n",
      "  '0.017*\"m\" + 0.012*\"month\" + 0.012*\"talk\" + 0.010*\"even\" + 0.009*\"give\" + '\n",
      "  '0.009*\"ask\" + 0.009*\"phone\" + 0.009*\"really\" + 0.008*\"bad\" + 0.008*\"jail\"'),\n",
      " (12,\n",
      "  '0.012*\"back\" + 0.011*\"son\" + 0.010*\"never\" + 0.010*\"together\" + '\n",
      "  '0.010*\"start\" + 0.009*\"happen\" + 0.009*\"take\" + 0.008*\"baby\" + 0.008*\"well\" '\n",
      "  '+ 0.007*\"room\"'),\n",
      " (13,\n",
      "  '0.012*\"even\" + 0.012*\"help\" + 0.011*\"think\" + 0.010*\"m\" + 0.010*\"abusive\" + '\n",
      "  '0.008*\"also\" + 0.008*\"husband\" + 0.007*\"still\" + 0.007*\"move\" + '\n",
      "  '0.007*\"really\"'),\n",
      " (14,\n",
      "  '0.010*\"mother\" + 0.010*\"think\" + 0.010*\"move\" + 0.009*\"even\" + 0.008*\"life\" '\n",
      "  '+ 0.008*\"day\" + 0.008*\"keep\" + 0.008*\"way\" + 0.007*\"face\" + 0.007*\"m\"'),\n",
      " (15,\n",
      "  '0.013*\"take\" + 0.013*\"car\" + 0.012*\"back\" + 0.011*\"start\" + 0.011*\"hit\" + '\n",
      "  '0.010*\"come\" + 0.010*\"happen\" + 0.009*\"call\" + 0.008*\"never\" + 0.008*\"day\"'),\n",
      " (16,\n",
      "  '0.012*\"well\" + 0.012*\"take\" + 0.010*\"many\" + 0.010*\"deserve\" + 0.010*\"day\" '\n",
      "  '+ 0.009*\"think\" + 0.009*\"still\" + 0.008*\"even\" + 0.008*\"back\" + '\n",
      "  '0.007*\"woman\"'),\n",
      " (17,\n",
      "  '0.034*\"mom\" + 0.019*\"dad\" + 0.017*\"police\" + 0.016*\"call\" + 0.012*\"come\" + '\n",
      "  '0.009*\"house\" + 0.008*\"file\" + 0.008*\"happen\" + 0.008*\"custody\" + '\n",
      "  '0.008*\"day\"'),\n",
      " (18,\n",
      "  '0.019*\"mom\" + 0.018*\"sister\" + 0.010*\"call\" + 0.009*\"day\" + 0.009*\"think\" + '\n",
      "  '0.009*\"family\" + 0.009*\"see\" + 0.008*\"work\" + 0.008*\"talk\" + 0.008*\"well\"'),\n",
      " (19,\n",
      "  '0.014*\"husband\" + 0.013*\"dad\" + 0.011*\"hit\" + 0.010*\"friend\" + '\n",
      "  '0.009*\"brother\" + 0.009*\"back\" + 0.009*\"really\" + 0.008*\"still\" + '\n",
      "  '0.008*\"always\" + 0.007*\"hard\"')]\n"
     ]
    }
   ],
   "source": [
    "# Print the Keyword in the topics\n",
    "pprint(lda_model.print_topics())\n",
    "doc_lda = lda_model[corpus]"
   ]
  },
  {
   "cell_type": "code",
   "execution_count": 23,
   "id": "7afbe28a",
   "metadata": {},
   "outputs": [
    {
     "name": "stdout",
     "output_type": "stream",
     "text": [
      "\n",
      "Perplexity:  -7.076963640557645\n"
     ]
    }
   ],
   "source": [
    "# Compute Perplexity\n",
    "print('\\nPerplexity: ', lda_model.log_perplexity(corpus))  # a measure of how good the model is. lower the better."
   ]
  },
  {
   "cell_type": "code",
   "execution_count": 24,
   "id": "1017f141",
   "metadata": {},
   "outputs": [
    {
     "name": "stdout",
     "output_type": "stream",
     "text": [
      "\n",
      "Coherence Score:  0.2639613224099925\n"
     ]
    }
   ],
   "source": [
    "# Compute Coherence Score\n",
    "coherence_model_lda = CoherenceModel(model=lda_model, texts=data_lemmatized, dictionary=id2word, coherence='c_v')\n",
    "coherence_lda = coherence_model_lda.get_coherence()\n",
    "print('\\nCoherence Score: ', coherence_lda)"
   ]
  },
  {
   "cell_type": "code",
   "execution_count": 25,
   "id": "ee33c145",
   "metadata": {},
   "outputs": [],
   "source": [
    "def compute_coherence_values(dictionary, corpus, texts, limit, start=2, step=3):\n",
    "    \"\"\"\n",
    "    Compute c_v coherence for various number of topics\n",
    "\n",
    "    Parameters:\n",
    "    ----------\n",
    "    dictionary : Gensim dictionary\n",
    "    corpus : Gensim corpus\n",
    "    texts : List of input texts\n",
    "    limit : Max num of topics\n",
    "\n",
    "    Returns:\n",
    "    -------\n",
    "    model_list : List of LDA topic models\n",
    "    coherence_values : Coherence values corresponding to the LDA model with respective number of topics\n",
    "    \"\"\"\n",
    "    coherence_values = []\n",
    "    model_list = []\n",
    "    for num_topics in range(start, limit, step):\n",
    "        model = gensim.models.ldamodel.LdaModel(corpus=corpus, num_topics=num_topics, id2word=dictionary)\n",
    "        model_list.append(model)\n",
    "        coherencemodel = CoherenceModel(model=model, texts=texts, dictionary=dictionary, coherence='c_v')\n",
    "        coherence_values.append(coherencemodel.get_coherence())\n",
    "\n",
    "    return model_list, coherence_values"
   ]
  },
  {
   "cell_type": "code",
   "execution_count": 26,
   "id": "ec287f2a",
   "metadata": {},
   "outputs": [],
   "source": [
    "\n",
    "model_list, coherence_values = compute_coherence_values(dictionary=id2word, corpus=corpus, texts=data_lemmatized, start=2, limit=50, step=1)"
   ]
  },
  {
   "cell_type": "code",
   "execution_count": 27,
   "id": "fbc92b40",
   "metadata": {},
   "outputs": [
    {
     "data": {
      "image/png": "[encoded data removed]",
      "text/plain": [
       "<Figure size 432x288 with 1 Axes>"
      ]
     },
     "metadata": {
      "needs_background": "light"
     },
     "output_type": "display_data"
    }
   ],
   "source": [
    "# Show graph\n",
    "limit=50; start=2; step=1;\n",
    "x = range(start, limit, step)\n",
    "plt.plot(x, coherence_values)\n",
    "plt.xlabel(\"Num Topics\")\n",
    "plt.ylabel(\"Coherence score\")\n",
    "plt.legend((\"coherence_values\"), loc='best')\n",
    "plt.show()# Print the coherence scores"
   ]
  },
  {
   "cell_type": "code",
   "execution_count": 133,
   "id": "487afc53",
   "metadata": {},
   "outputs": [
    {
     "name": "stdout",
     "output_type": "stream",
     "text": [
      "Num Topics = 2  has Coherence Value of 0.262\n",
      "Num Topics = 3  has Coherence Value of 0.2621\n",
      "Num Topics = 4  has Coherence Value of 0.2611\n",
      "Num Topics = 5  has Coherence Value of 0.256\n",
      "Num Topics = 6  has Coherence Value of 0.251\n",
      "Num Topics = 7  has Coherence Value of 0.2522\n",
      "Num Topics = 8  has Coherence Value of 0.2515\n",
      "Num Topics = 9  has Coherence Value of 0.2579\n",
      "Num Topics = 10  has Coherence Value of 0.2517\n",
      "Num Topics = 11  has Coherence Value of 0.2512\n",
      "Num Topics = 12  has Coherence Value of 0.2552\n",
      "Num Topics = 13  has Coherence Value of 0.2495\n",
      "Num Topics = 14  has Coherence Value of 0.2534\n",
      "Num Topics = 15  has Coherence Value of 0.2545\n",
      "Num Topics = 16  has Coherence Value of 0.2575\n",
      "Num Topics = 17  has Coherence Value of 0.2527\n",
      "Num Topics = 18  has Coherence Value of 0.2486\n",
      "Num Topics = 19  has Coherence Value of 0.2526\n",
      "Num Topics = 20  has Coherence Value of 0.2553\n",
      "Num Topics = 21  has Coherence Value of 0.2488\n",
      "Num Topics = 22  has Coherence Value of 0.2523\n",
      "Num Topics = 23  has Coherence Value of 0.2503\n",
      "Num Topics = 24  has Coherence Value of 0.2489\n",
      "Num Topics = 25  has Coherence Value of 0.2525\n",
      "Num Topics = 26  has Coherence Value of 0.2509\n",
      "Num Topics = 27  has Coherence Value of 0.2489\n",
      "Num Topics = 28  has Coherence Value of 0.2552\n",
      "Num Topics = 29  has Coherence Value of 0.2552\n",
      "Num Topics = 30  has Coherence Value of 0.2505\n",
      "Num Topics = 31  has Coherence Value of 0.2481\n",
      "Num Topics = 32  has Coherence Value of 0.2523\n",
      "Num Topics = 33  has Coherence Value of 0.249\n",
      "Num Topics = 34  has Coherence Value of 0.2545\n",
      "Num Topics = 35  has Coherence Value of 0.25\n",
      "Num Topics = 36  has Coherence Value of 0.2509\n",
      "Num Topics = 37  has Coherence Value of 0.2471\n",
      "Num Topics = 38  has Coherence Value of 0.2485\n",
      "Num Topics = 39  has Coherence Value of 0.2528\n",
      "Num Topics = 40  has Coherence Value of 0.2489\n",
      "Num Topics = 41  has Coherence Value of 0.245\n",
      "Num Topics = 42  has Coherence Value of 0.2488\n",
      "Num Topics = 43  has Coherence Value of 0.2474\n",
      "Num Topics = 44  has Coherence Value of 0.2525\n",
      "Num Topics = 45  has Coherence Value of 0.2536\n",
      "Num Topics = 46  has Coherence Value of 0.2504\n",
      "Num Topics = 47  has Coherence Value of 0.2462\n",
      "Num Topics = 48  has Coherence Value of 0.2456\n",
      "Num Topics = 49  has Coherence Value of 0.253\n"
     ]
    }
   ],
   "source": [
    "\n",
    "# Print the coherence scores\n",
    "for m, cv in zip(x, coherence_values):\n",
    "    print(\"Num Topics =\", m, \" has Coherence Value of\", round(cv, 4))"
   ]
  },
  {
   "cell_type": "code",
   "execution_count": 143,
   "id": "69b54c87",
   "metadata": {},
   "outputs": [
    {
     "data": {
      "text/plain": [
       "[(20,\n",
       "  '0.012*\"start\" + 0.011*\"take\" + 0.010*\"call\" + 0.010*\"charge\" + 0.007*\"work\" + 0.007*\"also\" + 0.007*\"house\" + 0.006*\"never\" + 0.006*\"live\" + 0.006*\"hit\"'),\n",
       " (17,\n",
       "  '0.009*\"even\" + 0.008*\"mom\" + 0.007*\"never\" + 0.007*\"see\" + 0.006*\"take\" + 0.006*\"think\" + 0.006*\"still\" + 0.006*\"well\" + 0.006*\"call\" + 0.006*\"abuse\"'),\n",
       " (16,\n",
       "  '0.008*\"take\" + 0.008*\"love\" + 0.008*\"work\" + 0.008*\"still\" + 0.008*\"start\" + 0.008*\"help\" + 0.007*\"day\" + 0.007*\"even\" + 0.007*\"call\" + 0.007*\"bad\"'),\n",
       " (4,\n",
       "  '0.011*\"m\" + 0.010*\"friend\" + 0.009*\"start\" + 0.008*\"talk\" + 0.008*\"month\" + 0.007*\"call\" + 0.007*\"see\" + 0.007*\"need\" + 0.007*\"mom\" + 0.006*\"keep\"'),\n",
       " (18,\n",
       "  '0.010*\"hit\" + 0.008*\"back\" + 0.008*\"come\" + 0.008*\"move\" + 0.007*\"even\" + 0.007*\"happen\" + 0.007*\"start\" + 0.007*\"day\" + 0.007*\"think\" + 0.007*\"ask\"'),\n",
       " (11,\n",
       "  '0.009*\"start\" + 0.008*\"need\" + 0.008*\"take\" + 0.007*\"think\" + 0.007*\"call\" + 0.007*\"back\" + 0.007*\"friend\" + 0.007*\"home\" + 0.006*\"family\" + 0.006*\"mom\"'),\n",
       " (7,\n",
       "  '0.010*\"keep\" + 0.010*\"start\" + 0.010*\"abusive\" + 0.009*\"even\" + 0.008*\"take\" + 0.006*\"really\" + 0.006*\"way\" + 0.006*\"slap\" + 0.006*\"kind\" + 0.006*\"help\"'),\n",
       " (5,\n",
       "  '0.009*\"hit\" + 0.009*\"much\" + 0.009*\"day\" + 0.009*\"never\" + 0.009*\"think\" + 0.008*\"start\" + 0.007*\"back\" + 0.007*\"leave\" + 0.007*\"call\" + 0.007*\"look\"'),\n",
       " (0,\n",
       "  '0.012*\"call\" + 0.012*\"take\" + 0.011*\"back\" + 0.010*\"come\" + 0.009*\"even\" + 0.008*\"mom\" + 0.008*\"also\" + 0.007*\"start\" + 0.007*\"police\" + 0.007*\"day\"'),\n",
       " (13,\n",
       "  '0.012*\"friend\" + 0.010*\"call\" + 0.010*\"mom\" + 0.009*\"m\" + 0.009*\"help\" + 0.008*\"still\" + 0.007*\"even\" + 0.007*\"kill\" + 0.007*\"back\" + 0.007*\"really\"'),\n",
       " (2,\n",
       "  '0.011*\"help\" + 0.010*\"m\" + 0.007*\"also\" + 0.007*\"hit\" + 0.007*\"come\" + 0.006*\"think\" + 0.006*\"mom\" + 0.006*\"house\" + 0.006*\"even\" + 0.006*\"s\"'),\n",
       " (1,\n",
       "  '0.008*\"leave\" + 0.008*\"even\" + 0.008*\"mom\" + 0.008*\"see\" + 0.008*\"call\" + 0.008*\"hurt\" + 0.007*\"m\" + 0.007*\"back\" + 0.007*\"abusive\" + 0.007*\"police\"'),\n",
       " (8,\n",
       "  '0.014*\"think\" + 0.010*\"day\" + 0.010*\"m\" + 0.009*\"even\" + 0.007*\"help\" + 0.007*\"happen\" + 0.007*\"really\" + 0.007*\"well\" + 0.007*\"call\" + 0.006*\"back\"'),\n",
       " (3,\n",
       "  '0.011*\"back\" + 0.009*\"call\" + 0.008*\"start\" + 0.008*\"never\" + 0.008*\"still\" + 0.007*\"day\" + 0.007*\"come\" + 0.007*\"take\" + 0.007*\"life\" + 0.007*\"really\"'),\n",
       " (19,\n",
       "  '0.009*\"m\" + 0.009*\"call\" + 0.009*\"see\" + 0.008*\"happen\" + 0.008*\"start\" + 0.008*\"even\" + 0.008*\"never\" + 0.007*\"talk\" + 0.007*\"work\" + 0.007*\"back\"'),\n",
       " (9,\n",
       "  '0.011*\"still\" + 0.010*\"call\" + 0.010*\"back\" + 0.010*\"really\" + 0.009*\"start\" + 0.009*\"see\" + 0.009*\"even\" + 0.008*\"much\" + 0.008*\"take\" + 0.008*\"never\"'),\n",
       " (14,\n",
       "  '0.011*\"take\" + 0.010*\"husband\" + 0.010*\"hit\" + 0.008*\"really\" + 0.007*\"month\" + 0.007*\"back\" + 0.007*\"talk\" + 0.006*\"see\" + 0.006*\"never\" + 0.006*\"abusive\"'),\n",
       " (15,\n",
       "  '0.014*\"hit\" + 0.009*\"work\" + 0.009*\"call\" + 0.008*\"take\" + 0.008*\"never\" + 0.008*\"even\" + 0.007*\"car\" + 0.007*\"kid\" + 0.007*\"still\" + 0.007*\"start\"'),\n",
       " (12,\n",
       "  '0.010*\"think\" + 0.010*\"even\" + 0.009*\"start\" + 0.007*\"call\" + 0.007*\"good\" + 0.007*\"leave\" + 0.007*\"work\" + 0.007*\"also\" + 0.006*\"still\" + 0.006*\"take\"'),\n",
       " (21,\n",
       "  '0.009*\"mom\" + 0.009*\"think\" + 0.008*\"call\" + 0.008*\"day\" + 0.008*\"back\" + 0.008*\"really\" + 0.008*\"never\" + 0.007*\"take\" + 0.007*\"come\" + 0.006*\"friend\"')]"
      ]
     },
     "execution_count": 143,
     "metadata": {},
     "output_type": "execute_result"
    }
   ],
   "source": [
    "# Select the model and print the topics\n",
    "optimal_model = model_list[20]\n",
    "model_topics = optimal_model.show_topics(formatted=False)\n",
    "optimal_model.print_topics(num_words=10)"
   ]
  },
  {
   "cell_type": "code",
   "execution_count": 144,
   "id": "d6a62f1b",
   "metadata": {},
   "outputs": [],
   "source": [
    "topic_words = []\n",
    "for i in range(20):\n",
    "    tt = lda_model.get_topic_terms(i,10)\n",
    "    topic_words.append([id2word[pair[0]] for pair in tt])"
   ]
  },
  {
   "cell_type": "code",
   "execution_count": 145,
   "id": "ddb256f7",
   "metadata": {},
   "outputs": [
    {
     "name": "stdout",
     "output_type": "stream",
     "text": [
      "['mother', 'live', 'see', 'also', 'take', 'call', 'parent', 'kid', 'start', 'abusive']\n",
      "['really', 'anymore', 'energy', 'bond', 'bad', 'trauma', 'respect', 'create', 'amount', 'information']\n",
      "['call', 'charge', 'arrest', 'police', 'even', 'home', 'assault', 'mom', 'family', 'abusive']\n",
      "['report', 'ex', 'bad', 'back', 'jail', 'give', 'life', 'assault', 'police', 's']\n",
      "['start', 'friend', 'really', 'think', 'never', 'back', 'day', 'still', 'talk', 'hit']\n",
      "['much', 'bad', 'move', 'wrong', 'stay', 'think', 'landlord', 'break', 'slap', 'ex']\n",
      "['dog', 'help', 'work', 'threaten', 'kill', 'well', 'take', 'abusive', 'divorce', 'care']\n",
      "['strangle', 'laugh', 'happen', 'never', 's', 'last', 'good', 'fight', 'mom', 'use']\n",
      "['sister', 'm', 'still', 'car', 'call', 'work', 'scared', 'back', 'cop', 'hit']\n",
      "['d', 'move', 'well', 'leave', 'back', 'start', 'dog', 'love', 'month', 'even']\n",
      "['abusive', 'home', 'give', 'live', 'police', 'still', 'm', 'much', 'think', 'cause']\n",
      "['m', 'month', 'talk', 'even', 'give', 'ask', 'phone', 'really', 'bad', 'jail']\n",
      "['back', 'son', 'never', 'together', 'start', 'happen', 'take', 'baby', 'well', 'room']\n",
      "['even', 'help', 'think', 'm', 'abusive', 'also', 'husband', 'still', 'move', 'really']\n",
      "['mother', 'think', 'move', 'even', 'life', 'day', 'keep', 'way', 'face', 'm']\n",
      "['take', 'car', 'back', 'start', 'hit', 'come', 'happen', 'call', 'never', 'day']\n",
      "['well', 'take', 'many', 'deserve', 'day', 'think', 'still', 'even', 'back', 'woman']\n",
      "['mom', 'dad', 'police', 'call', 'come', 'house', 'file', 'happen', 'custody', 'day']\n",
      "['mom', 'sister', 'call', 'day', 'think', 'family', 'see', 'work', 'talk', 'well']\n",
      "['husband', 'dad', 'hit', 'friend', 'brother', 'back', 'really', 'still', 'always', 'hard']\n"
     ]
    }
   ],
   "source": [
    "for i in range(0,20):\n",
    "    print(topic_words[i])"
   ]
  },
  {
   "cell_type": "code",
   "execution_count": 146,
   "id": "646a95e5",
   "metadata": {},
   "outputs": [
    {
     "data": {
      "text/html": [
       "<div>\n",
       "<style scoped>\n",
       "    .dataframe tbody tr th:only-of-type {\n",
       "        vertical-align: middle;\n",
       "    }\n",
       "\n",
       "    .dataframe tbody tr th {\n",
       "        vertical-align: top;\n",
       "    }\n",
       "\n",
       "    .dataframe thead th {\n",
       "        text-align: right;\n",
       "    }\n",
       "</style>\n",
       "<table border=\"1\" class=\"dataframe\">\n",
       "  <thead>\n",
       "    <tr style=\"text-align: right;\">\n",
       "      <th></th>\n",
       "      <th>Source</th>\n",
       "      <th>Topic_ID</th>\n",
       "      <th>Most_freq_words</th>\n",
       "    </tr>\n",
       "  </thead>\n",
       "  <tbody>\n",
       "  </tbody>\n",
       "</table>\n",
       "</div>"
      ],
      "text/plain": [
       "Empty DataFrame\n",
       "Columns: [Source, Topic_ID, Most_freq_words]\n",
       "Index: []"
      ]
     },
     "execution_count": 146,
     "metadata": {},
     "output_type": "execute_result"
    }
   ],
   "source": [
    "df=pd.DataFrame({'Source':[],'Topic_ID':[],'Most_freq_words':[]})\n",
    "df.head()"
   ]
  },
  {
   "cell_type": "code",
   "execution_count": 138,
   "id": "510152d2",
   "metadata": {},
   "outputs": [],
   "source": [
    "df['Most_freq_words']=topic_words"
   ]
  },
  {
   "cell_type": "code",
   "execution_count": 139,
   "id": "d62b5259",
   "metadata": {},
   "outputs": [],
   "source": [
    "df = df.assign(Source='Reddit')"
   ]
  },
  {
   "cell_type": "code",
   "execution_count": 140,
   "id": "9ae3a489",
   "metadata": {},
   "outputs": [],
   "source": [
    "ls=[]\n",
    "for i in range(0,20):\n",
    "    ls.append(i)\n",
    "df['Topic_ID']=ls"
   ]
  },
  {
   "cell_type": "code",
   "execution_count": 141,
   "id": "28ca2650",
   "metadata": {},
   "outputs": [
    {
     "data": {
      "text/html": [
       "<div>\n",
       "<style scoped>\n",
       "    .dataframe tbody tr th:only-of-type {\n",
       "        vertical-align: middle;\n",
       "    }\n",
       "\n",
       "    .dataframe tbody tr th {\n",
       "        vertical-align: top;\n",
       "    }\n",
       "\n",
       "    .dataframe thead th {\n",
       "        text-align: right;\n",
       "    }\n",
       "</style>\n",
       "<table border=\"1\" class=\"dataframe\">\n",
       "  <thead>\n",
       "    <tr style=\"text-align: right;\">\n",
       "      <th></th>\n",
       "      <th>Source</th>\n",
       "      <th>Topic_ID</th>\n",
       "      <th>Most_freq_words</th>\n",
       "    </tr>\n",
       "  </thead>\n",
       "  <tbody>\n",
       "    <tr>\n",
       "      <th>0</th>\n",
       "      <td>Reddit</td>\n",
       "      <td>0</td>\n",
       "      <td>[mother, live, see, also, take, call, parent, kid, start, abusive]</td>\n",
       "    </tr>\n",
       "    <tr>\n",
       "      <th>1</th>\n",
       "      <td>Reddit</td>\n",
       "      <td>1</td>\n",
       "      <td>[really, anymore, energy, bond, bad, trauma, respect, create, amount, information]</td>\n",
       "    </tr>\n",
       "    <tr>\n",
       "      <th>2</th>\n",
       "      <td>Reddit</td>\n",
       "      <td>2</td>\n",
       "      <td>[call, charge, arrest, police, even, home, assault, mom, family, abusive]</td>\n",
       "    </tr>\n",
       "    <tr>\n",
       "      <th>3</th>\n",
       "      <td>Reddit</td>\n",
       "      <td>3</td>\n",
       "      <td>[report, ex, bad, back, jail, give, life, assault, police, s]</td>\n",
       "    </tr>\n",
       "    <tr>\n",
       "      <th>4</th>\n",
       "      <td>Reddit</td>\n",
       "      <td>4</td>\n",
       "      <td>[start, friend, really, think, never, back, day, still, talk, hit]</td>\n",
       "    </tr>\n",
       "    <tr>\n",
       "      <th>5</th>\n",
       "      <td>Reddit</td>\n",
       "      <td>5</td>\n",
       "      <td>[much, bad, move, wrong, stay, think, landlord, break, slap, ex]</td>\n",
       "    </tr>\n",
       "    <tr>\n",
       "      <th>6</th>\n",
       "      <td>Reddit</td>\n",
       "      <td>6</td>\n",
       "      <td>[dog, help, work, threaten, kill, well, take, abusive, divorce, care]</td>\n",
       "    </tr>\n",
       "    <tr>\n",
       "      <th>7</th>\n",
       "      <td>Reddit</td>\n",
       "      <td>7</td>\n",
       "      <td>[strangle, laugh, happen, never, s, last, good, fight, mom, use]</td>\n",
       "    </tr>\n",
       "    <tr>\n",
       "      <th>8</th>\n",
       "      <td>Reddit</td>\n",
       "      <td>8</td>\n",
       "      <td>[sister, m, still, car, call, work, scared, back, cop, hit]</td>\n",
       "    </tr>\n",
       "    <tr>\n",
       "      <th>9</th>\n",
       "      <td>Reddit</td>\n",
       "      <td>9</td>\n",
       "      <td>[d, move, well, leave, back, start, dog, love, month, even]</td>\n",
       "    </tr>\n",
       "    <tr>\n",
       "      <th>10</th>\n",
       "      <td>Reddit</td>\n",
       "      <td>10</td>\n",
       "      <td>[abusive, home, give, live, police, still, m, much, think, cause]</td>\n",
       "    </tr>\n",
       "    <tr>\n",
       "      <th>11</th>\n",
       "      <td>Reddit</td>\n",
       "      <td>11</td>\n",
       "      <td>[m, month, talk, even, give, ask, phone, really, bad, jail]</td>\n",
       "    </tr>\n",
       "    <tr>\n",
       "      <th>12</th>\n",
       "      <td>Reddit</td>\n",
       "      <td>12</td>\n",
       "      <td>[back, son, never, together, start, happen, take, baby, well, room]</td>\n",
       "    </tr>\n",
       "    <tr>\n",
       "      <th>13</th>\n",
       "      <td>Reddit</td>\n",
       "      <td>13</td>\n",
       "      <td>[even, help, think, m, abusive, also, husband, still, move, really]</td>\n",
       "    </tr>\n",
       "    <tr>\n",
       "      <th>14</th>\n",
       "      <td>Reddit</td>\n",
       "      <td>14</td>\n",
       "      <td>[mother, think, move, even, life, day, keep, way, face, m]</td>\n",
       "    </tr>\n",
       "    <tr>\n",
       "      <th>15</th>\n",
       "      <td>Reddit</td>\n",
       "      <td>15</td>\n",
       "      <td>[take, car, back, start, hit, come, happen, call, never, day]</td>\n",
       "    </tr>\n",
       "    <tr>\n",
       "      <th>16</th>\n",
       "      <td>Reddit</td>\n",
       "      <td>16</td>\n",
       "      <td>[well, take, many, deserve, day, think, still, even, back, woman]</td>\n",
       "    </tr>\n",
       "    <tr>\n",
       "      <th>17</th>\n",
       "      <td>Reddit</td>\n",
       "      <td>17</td>\n",
       "      <td>[mom, dad, police, call, come, house, file, happen, custody, day]</td>\n",
       "    </tr>\n",
       "    <tr>\n",
       "      <th>18</th>\n",
       "      <td>Reddit</td>\n",
       "      <td>18</td>\n",
       "      <td>[mom, sister, call, day, think, family, see, work, talk, well]</td>\n",
       "    </tr>\n",
       "    <tr>\n",
       "      <th>19</th>\n",
       "      <td>Reddit</td>\n",
       "      <td>19</td>\n",
       "      <td>[husband, dad, hit, friend, brother, back, really, still, always, hard]</td>\n",
       "    </tr>\n",
       "  </tbody>\n",
       "</table>\n",
       "</div>"
      ],
      "text/plain": [
       "    Source  Topic_ID  \\\n",
       "0   Reddit  0          \n",
       "1   Reddit  1          \n",
       "2   Reddit  2          \n",
       "3   Reddit  3          \n",
       "4   Reddit  4          \n",
       "5   Reddit  5          \n",
       "6   Reddit  6          \n",
       "7   Reddit  7          \n",
       "8   Reddit  8          \n",
       "9   Reddit  9          \n",
       "10  Reddit  10         \n",
       "11  Reddit  11         \n",
       "12  Reddit  12         \n",
       "13  Reddit  13         \n",
       "14  Reddit  14         \n",
       "15  Reddit  15         \n",
       "16  Reddit  16         \n",
       "17  Reddit  17         \n",
       "18  Reddit  18         \n",
       "19  Reddit  19         \n",
       "\n",
       "                                                                       Most_freq_words  \n",
       "0   [mother, live, see, also, take, call, parent, kid, start, abusive]                  \n",
       "1   [really, anymore, energy, bond, bad, trauma, respect, create, amount, information]  \n",
       "2   [call, charge, arrest, police, even, home, assault, mom, family, abusive]           \n",
       "3   [report, ex, bad, back, jail, give, life, assault, police, s]                       \n",
       "4   [start, friend, really, think, never, back, day, still, talk, hit]                  \n",
       "5   [much, bad, move, wrong, stay, think, landlord, break, slap, ex]                    \n",
       "6   [dog, help, work, threaten, kill, well, take, abusive, divorce, care]               \n",
       "7   [strangle, laugh, happen, never, s, last, good, fight, mom, use]                    \n",
       "8   [sister, m, still, car, call, work, scared, back, cop, hit]                         \n",
       "9   [d, move, well, leave, back, start, dog, love, month, even]                         \n",
       "10  [abusive, home, give, live, police, still, m, much, think, cause]                   \n",
       "11  [m, month, talk, even, give, ask, phone, really, bad, jail]                         \n",
       "12  [back, son, never, together, start, happen, take, baby, well, room]                 \n",
       "13  [even, help, think, m, abusive, also, husband, still, move, really]                 \n",
       "14  [mother, think, move, even, life, day, keep, way, face, m]                          \n",
       "15  [take, car, back, start, hit, come, happen, call, never, day]                       \n",
       "16  [well, take, many, deserve, day, think, still, even, back, woman]                   \n",
       "17  [mom, dad, police, call, come, house, file, happen, custody, day]                   \n",
       "18  [mom, sister, call, day, think, family, see, work, talk, well]                      \n",
       "19  [husband, dad, hit, friend, brother, back, really, still, always, hard]             "
      ]
     },
     "execution_count": 141,
     "metadata": {},
     "output_type": "execute_result"
    }
   ],
   "source": [
    "df.head(20)"
   ]
  },
  {
   "cell_type": "code",
   "execution_count": 142,
   "id": "d7c46bc5",
   "metadata": {},
   "outputs": [],
   "source": [
    "df.to_csv(\"DV_Reddit.csv\")"
   ]
  },
  {
   "cell_type": "code",
   "execution_count": 110,
   "id": "6e359c80",
   "metadata": {},
   "outputs": [],
   "source": [
    "# Getting dominant topics from the document \n",
    "# Sentence Coloring of N Sentences\n",
    "def topics_per_document(model, corpus, start=0, end=1):\n",
    "    corpus_sel = corpus[start:end]\n",
    "    dominant_topics = []\n",
    "    topic_percentages = []\n",
    "    for i, corp in enumerate(corpus_sel):\n",
    "        topic_percs, wordid_topics, wordid_phivalues = model[corp]\n",
    "        dominant_topic = sorted(topic_percs, key = lambda x: x[1], reverse=True)[0][0]\n",
    "        dominant_topics.append((i, dominant_topic))\n",
    "        topic_percentages.append(topic_percs)\n",
    "    return(dominant_topics, topic_percentages)\n",
    "\n",
    "dominant_topics, topic_percentages = topics_per_document(model=lda_model, corpus=corpus, end=-1)            \n",
    "#print(dominant_topics, topic_percentages)\n",
    "\n",
    "# Distribution of Dominant Topics in Each Document\n",
    "df = pd.DataFrame(dominant_topics, columns=['Document_Id', 'Dominant_Topic'])\n",
    "dominant_topic_in_each_doc = df.groupby('Dominant_Topic').size()\n",
    "df_dominant_topic_in_each_doc = dominant_topic_in_each_doc.to_frame(name='count').reset_index()\n",
    "\n",
    "# Total Topic Distribution by actual weight\n",
    "topic_weightage_by_doc = pd.DataFrame([dict(t) for t in topic_percentages])\n",
    "df_topic_weightage_by_doc = topic_weightage_by_doc.sum().to_frame(name='count').reset_index()\n",
    "\n",
    "# Top 10 Keywords for each Topic\n",
    "topic_top10words = [(i, topic) for i, topics in lda_model.show_topics(formatted=False) \n",
    "                                 for j, (topic, wt) in enumerate(topics) if j < 10]\n",
    "\n",
    "df_top10words_stacked = pd.DataFrame(topic_top10words, columns=['topic_id', 'words'])\n",
    "df_top10words = df_top10words_stacked.groupby('topic_id').agg(', \\n'.join)\n",
    "df_top10words.reset_index(level=0,inplace=True)\n"
   ]
  },
  {
   "cell_type": "code",
   "execution_count": 111,
   "id": "47d154a1",
   "metadata": {},
   "outputs": [
    {
     "name": "stderr",
     "output_type": "stream",
     "text": [
      "<ipython-input-111-0891b765a168>:1: FutureWarning: Passing a negative integer is deprecated in version 1.0 and will not be supported in future version. Instead, use None to not limit the column width.\n",
      "  pd.set_option('display.max_colwidth', -1)\n"
     ]
    }
   ],
   "source": [
    "pd.set_option('display.max_colwidth', -1)"
   ]
  },
  {
   "cell_type": "code",
   "execution_count": 112,
   "id": "b2c09142",
   "metadata": {},
   "outputs": [
    {
     "data": {
      "text/html": [
       "<div>\n",
       "<style scoped>\n",
       "    .dataframe tbody tr th:only-of-type {\n",
       "        vertical-align: middle;\n",
       "    }\n",
       "\n",
       "    .dataframe tbody tr th {\n",
       "        vertical-align: top;\n",
       "    }\n",
       "\n",
       "    .dataframe thead th {\n",
       "        text-align: right;\n",
       "    }\n",
       "</style>\n",
       "<table border=\"1\" class=\"dataframe\">\n",
       "  <thead>\n",
       "    <tr style=\"text-align: right;\">\n",
       "      <th></th>\n",
       "      <th>topic_id</th>\n",
       "      <th>words</th>\n",
       "      <th>corpus</th>\n",
       "    </tr>\n",
       "  </thead>\n",
       "  <tbody>\n",
       "    <tr>\n",
       "      <th>0</th>\n",
       "      <td>0</td>\n",
       "      <td>mother, \\nlive, \\nsee, \\nalso, \\ntake, \\ncall, \\nparent, \\nkid, \\nstart, \\nabusive</td>\n",
       "      <td>Reddit</td>\n",
       "    </tr>\n",
       "    <tr>\n",
       "      <th>1</th>\n",
       "      <td>1</td>\n",
       "      <td>really, \\nanymore, \\nenergy, \\nbond, \\nbad, \\ntrauma, \\nrespect, \\ncreate, \\namount, \\ninformation</td>\n",
       "      <td>Reddit</td>\n",
       "    </tr>\n",
       "    <tr>\n",
       "      <th>2</th>\n",
       "      <td>4</td>\n",
       "      <td>start, \\nfriend, \\nreally, \\nthink, \\nnever, \\nback, \\nday, \\nstill, \\ntalk, \\nhit</td>\n",
       "      <td>Reddit</td>\n",
       "    </tr>\n",
       "    <tr>\n",
       "      <th>3</th>\n",
       "      <td>5</td>\n",
       "      <td>much, \\nbad, \\nmove, \\nwrong, \\nstay, \\nthink, \\nlandlord, \\nbreak, \\nslap, \\nex</td>\n",
       "      <td>Reddit</td>\n",
       "    </tr>\n",
       "    <tr>\n",
       "      <th>4</th>\n",
       "      <td>7</td>\n",
       "      <td>strangle, \\nlaugh, \\nhappen, \\nnever, \\ns, \\nlast, \\ngood, \\nfight, \\nmom, \\nuse</td>\n",
       "      <td>Reddit</td>\n",
       "    </tr>\n",
       "    <tr>\n",
       "      <th>5</th>\n",
       "      <td>9</td>\n",
       "      <td>d, \\nmove, \\nwell, \\nleave, \\nback, \\nstart, \\ndog, \\nlove, \\nmonth, \\neven</td>\n",
       "      <td>Reddit</td>\n",
       "    </tr>\n",
       "    <tr>\n",
       "      <th>6</th>\n",
       "      <td>10</td>\n",
       "      <td>abusive, \\nhome, \\ngive, \\nlive, \\npolice, \\nstill, \\nm, \\nmuch, \\nthink, \\ncause</td>\n",
       "      <td>Reddit</td>\n",
       "    </tr>\n",
       "    <tr>\n",
       "      <th>7</th>\n",
       "      <td>13</td>\n",
       "      <td>even, \\nhelp, \\nthink, \\nm, \\nabusive, \\nalso, \\nhusband, \\nstill, \\nmove, \\nreally</td>\n",
       "      <td>Reddit</td>\n",
       "    </tr>\n",
       "    <tr>\n",
       "      <th>8</th>\n",
       "      <td>15</td>\n",
       "      <td>take, \\ncar, \\nback, \\nstart, \\nhit, \\ncome, \\nhappen, \\ncall, \\nnever, \\nday</td>\n",
       "      <td>Reddit</td>\n",
       "    </tr>\n",
       "    <tr>\n",
       "      <th>9</th>\n",
       "      <td>18</td>\n",
       "      <td>mom, \\nsister, \\ncall, \\nday, \\nthink, \\nfamily, \\nsee, \\nwork, \\ntalk, \\nwell</td>\n",
       "      <td>Reddit</td>\n",
       "    </tr>\n",
       "  </tbody>\n",
       "</table>\n",
       "</div>"
      ],
      "text/plain": [
       "   topic_id  \\\n",
       "0  0          \n",
       "1  1          \n",
       "2  4          \n",
       "3  5          \n",
       "4  7          \n",
       "5  9          \n",
       "6  10         \n",
       "7  13         \n",
       "8  15         \n",
       "9  18         \n",
       "\n",
       "                                                                                                words  \\\n",
       "0  mother, \\nlive, \\nsee, \\nalso, \\ntake, \\ncall, \\nparent, \\nkid, \\nstart, \\nabusive                   \n",
       "1  really, \\nanymore, \\nenergy, \\nbond, \\nbad, \\ntrauma, \\nrespect, \\ncreate, \\namount, \\ninformation   \n",
       "2  start, \\nfriend, \\nreally, \\nthink, \\nnever, \\nback, \\nday, \\nstill, \\ntalk, \\nhit                   \n",
       "3  much, \\nbad, \\nmove, \\nwrong, \\nstay, \\nthink, \\nlandlord, \\nbreak, \\nslap, \\nex                     \n",
       "4  strangle, \\nlaugh, \\nhappen, \\nnever, \\ns, \\nlast, \\ngood, \\nfight, \\nmom, \\nuse                     \n",
       "5  d, \\nmove, \\nwell, \\nleave, \\nback, \\nstart, \\ndog, \\nlove, \\nmonth, \\neven                          \n",
       "6  abusive, \\nhome, \\ngive, \\nlive, \\npolice, \\nstill, \\nm, \\nmuch, \\nthink, \\ncause                    \n",
       "7  even, \\nhelp, \\nthink, \\nm, \\nabusive, \\nalso, \\nhusband, \\nstill, \\nmove, \\nreally                  \n",
       "8  take, \\ncar, \\nback, \\nstart, \\nhit, \\ncome, \\nhappen, \\ncall, \\nnever, \\nday                        \n",
       "9  mom, \\nsister, \\ncall, \\nday, \\nthink, \\nfamily, \\nsee, \\nwork, \\ntalk, \\nwell                       \n",
       "\n",
       "   corpus  \n",
       "0  Reddit  \n",
       "1  Reddit  \n",
       "2  Reddit  \n",
       "3  Reddit  \n",
       "4  Reddit  \n",
       "5  Reddit  \n",
       "6  Reddit  \n",
       "7  Reddit  \n",
       "8  Reddit  \n",
       "9  Reddit  "
      ]
     },
     "execution_count": 112,
     "metadata": {},
     "output_type": "execute_result"
    }
   ],
   "source": [
    "df_top10words['corpus']=\"Reddit\"\n",
    "df_top10words"
   ]
  },
  {
   "cell_type": "code",
   "execution_count": 113,
   "id": "d9723e9f",
   "metadata": {},
   "outputs": [
    {
     "data": {
      "text/html": [
       "<div>\n",
       "<style scoped>\n",
       "    .dataframe tbody tr th:only-of-type {\n",
       "        vertical-align: middle;\n",
       "    }\n",
       "\n",
       "    .dataframe tbody tr th {\n",
       "        vertical-align: top;\n",
       "    }\n",
       "\n",
       "    .dataframe thead th {\n",
       "        text-align: right;\n",
       "    }\n",
       "</style>\n",
       "<table border=\"1\" class=\"dataframe\">\n",
       "  <thead>\n",
       "    <tr style=\"text-align: right;\">\n",
       "      <th></th>\n",
       "      <th>topic_id</th>\n",
       "      <th>words</th>\n",
       "      <th>corpus</th>\n",
       "    </tr>\n",
       "  </thead>\n",
       "  <tbody>\n",
       "    <tr>\n",
       "      <th>0</th>\n",
       "      <td>0</td>\n",
       "      <td>mother, \\nlive, \\nsee, \\nalso, \\ntake, \\ncall, \\nparent, \\nkid, \\nstart, \\nabusive</td>\n",
       "      <td>Reddit</td>\n",
       "    </tr>\n",
       "    <tr>\n",
       "      <th>1</th>\n",
       "      <td>1</td>\n",
       "      <td>really, \\nanymore, \\nenergy, \\nbond, \\nbad, \\ntrauma, \\nrespect, \\ncreate, \\namount, \\ninformation</td>\n",
       "      <td>Reddit</td>\n",
       "    </tr>\n",
       "    <tr>\n",
       "      <th>2</th>\n",
       "      <td>4</td>\n",
       "      <td>start, \\nfriend, \\nreally, \\nthink, \\nnever, \\nback, \\nday, \\nstill, \\ntalk, \\nhit</td>\n",
       "      <td>Reddit</td>\n",
       "    </tr>\n",
       "    <tr>\n",
       "      <th>3</th>\n",
       "      <td>5</td>\n",
       "      <td>much, \\nbad, \\nmove, \\nwrong, \\nstay, \\nthink, \\nlandlord, \\nbreak, \\nslap, \\nex</td>\n",
       "      <td>Reddit</td>\n",
       "    </tr>\n",
       "    <tr>\n",
       "      <th>4</th>\n",
       "      <td>7</td>\n",
       "      <td>strangle, \\nlaugh, \\nhappen, \\nnever, \\ns, \\nlast, \\ngood, \\nfight, \\nmom, \\nuse</td>\n",
       "      <td>Reddit</td>\n",
       "    </tr>\n",
       "    <tr>\n",
       "      <th>5</th>\n",
       "      <td>9</td>\n",
       "      <td>d, \\nmove, \\nwell, \\nleave, \\nback, \\nstart, \\ndog, \\nlove, \\nmonth, \\neven</td>\n",
       "      <td>Reddit</td>\n",
       "    </tr>\n",
       "    <tr>\n",
       "      <th>6</th>\n",
       "      <td>10</td>\n",
       "      <td>abusive, \\nhome, \\ngive, \\nlive, \\npolice, \\nstill, \\nm, \\nmuch, \\nthink, \\ncause</td>\n",
       "      <td>Reddit</td>\n",
       "    </tr>\n",
       "    <tr>\n",
       "      <th>7</th>\n",
       "      <td>13</td>\n",
       "      <td>even, \\nhelp, \\nthink, \\nm, \\nabusive, \\nalso, \\nhusband, \\nstill, \\nmove, \\nreally</td>\n",
       "      <td>Reddit</td>\n",
       "    </tr>\n",
       "    <tr>\n",
       "      <th>8</th>\n",
       "      <td>15</td>\n",
       "      <td>take, \\ncar, \\nback, \\nstart, \\nhit, \\ncome, \\nhappen, \\ncall, \\nnever, \\nday</td>\n",
       "      <td>Reddit</td>\n",
       "    </tr>\n",
       "    <tr>\n",
       "      <th>9</th>\n",
       "      <td>18</td>\n",
       "      <td>mom, \\nsister, \\ncall, \\nday, \\nthink, \\nfamily, \\nsee, \\nwork, \\ntalk, \\nwell</td>\n",
       "      <td>Reddit</td>\n",
       "    </tr>\n",
       "  </tbody>\n",
       "</table>\n",
       "</div>"
      ],
      "text/plain": [
       "   topic_id  \\\n",
       "0  0          \n",
       "1  1          \n",
       "2  4          \n",
       "3  5          \n",
       "4  7          \n",
       "5  9          \n",
       "6  10         \n",
       "7  13         \n",
       "8  15         \n",
       "9  18         \n",
       "\n",
       "                                                                                                words  \\\n",
       "0  mother, \\nlive, \\nsee, \\nalso, \\ntake, \\ncall, \\nparent, \\nkid, \\nstart, \\nabusive                   \n",
       "1  really, \\nanymore, \\nenergy, \\nbond, \\nbad, \\ntrauma, \\nrespect, \\ncreate, \\namount, \\ninformation   \n",
       "2  start, \\nfriend, \\nreally, \\nthink, \\nnever, \\nback, \\nday, \\nstill, \\ntalk, \\nhit                   \n",
       "3  much, \\nbad, \\nmove, \\nwrong, \\nstay, \\nthink, \\nlandlord, \\nbreak, \\nslap, \\nex                     \n",
       "4  strangle, \\nlaugh, \\nhappen, \\nnever, \\ns, \\nlast, \\ngood, \\nfight, \\nmom, \\nuse                     \n",
       "5  d, \\nmove, \\nwell, \\nleave, \\nback, \\nstart, \\ndog, \\nlove, \\nmonth, \\neven                          \n",
       "6  abusive, \\nhome, \\ngive, \\nlive, \\npolice, \\nstill, \\nm, \\nmuch, \\nthink, \\ncause                    \n",
       "7  even, \\nhelp, \\nthink, \\nm, \\nabusive, \\nalso, \\nhusband, \\nstill, \\nmove, \\nreally                  \n",
       "8  take, \\ncar, \\nback, \\nstart, \\nhit, \\ncome, \\nhappen, \\ncall, \\nnever, \\nday                        \n",
       "9  mom, \\nsister, \\ncall, \\nday, \\nthink, \\nfamily, \\nsee, \\nwork, \\ntalk, \\nwell                       \n",
       "\n",
       "   corpus  \n",
       "0  Reddit  \n",
       "1  Reddit  \n",
       "2  Reddit  \n",
       "3  Reddit  \n",
       "4  Reddit  \n",
       "5  Reddit  \n",
       "6  Reddit  \n",
       "7  Reddit  \n",
       "8  Reddit  \n",
       "9  Reddit  "
      ]
     },
     "execution_count": 113,
     "metadata": {},
     "output_type": "execute_result"
    }
   ],
   "source": [
    "df_top10words=df_top10words.drop_duplicates(subset=['words'])\n",
    "df_top10words"
   ]
  },
  {
   "cell_type": "code",
   "execution_count": 114,
   "id": "e641ab8a",
   "metadata": {},
   "outputs": [
    {
     "data": {
      "text/html": [
       "<div>\n",
       "<style scoped>\n",
       "    .dataframe tbody tr th:only-of-type {\n",
       "        vertical-align: middle;\n",
       "    }\n",
       "\n",
       "    .dataframe tbody tr th {\n",
       "        vertical-align: top;\n",
       "    }\n",
       "\n",
       "    .dataframe thead th {\n",
       "        text-align: right;\n",
       "    }\n",
       "</style>\n",
       "<table border=\"1\" class=\"dataframe\">\n",
       "  <thead>\n",
       "    <tr style=\"text-align: right;\">\n",
       "      <th></th>\n",
       "      <th>topic_id</th>\n",
       "      <th>words</th>\n",
       "      <th>corpus</th>\n",
       "    </tr>\n",
       "  </thead>\n",
       "  <tbody>\n",
       "    <tr>\n",
       "      <th>0</th>\n",
       "      <td>0</td>\n",
       "      <td>mother, \\nlive, \\nsee, \\nalso, \\ntake, \\ncall, \\nparent, \\nkid, \\nstart, \\nabusive</td>\n",
       "      <td>Reddit</td>\n",
       "    </tr>\n",
       "    <tr>\n",
       "      <th>1</th>\n",
       "      <td>1</td>\n",
       "      <td>really, \\nanymore, \\nenergy, \\nbond, \\nbad, \\ntrauma, \\nrespect, \\ncreate, \\namount, \\ninformation</td>\n",
       "      <td>Reddit</td>\n",
       "    </tr>\n",
       "    <tr>\n",
       "      <th>2</th>\n",
       "      <td>4</td>\n",
       "      <td>start, \\nfriend, \\nreally, \\nthink, \\nnever, \\nback, \\nday, \\nstill, \\ntalk, \\nhit</td>\n",
       "      <td>Reddit</td>\n",
       "    </tr>\n",
       "    <tr>\n",
       "      <th>3</th>\n",
       "      <td>5</td>\n",
       "      <td>much, \\nbad, \\nmove, \\nwrong, \\nstay, \\nthink, \\nlandlord, \\nbreak, \\nslap, \\nex</td>\n",
       "      <td>Reddit</td>\n",
       "    </tr>\n",
       "    <tr>\n",
       "      <th>4</th>\n",
       "      <td>7</td>\n",
       "      <td>strangle, \\nlaugh, \\nhappen, \\nnever, \\ns, \\nlast, \\ngood, \\nfight, \\nmom, \\nuse</td>\n",
       "      <td>Reddit</td>\n",
       "    </tr>\n",
       "  </tbody>\n",
       "</table>\n",
       "</div>"
      ],
      "text/plain": [
       "   topic_id  \\\n",
       "0  0          \n",
       "1  1          \n",
       "2  4          \n",
       "3  5          \n",
       "4  7          \n",
       "\n",
       "                                                                                                words  \\\n",
       "0  mother, \\nlive, \\nsee, \\nalso, \\ntake, \\ncall, \\nparent, \\nkid, \\nstart, \\nabusive                   \n",
       "1  really, \\nanymore, \\nenergy, \\nbond, \\nbad, \\ntrauma, \\nrespect, \\ncreate, \\namount, \\ninformation   \n",
       "2  start, \\nfriend, \\nreally, \\nthink, \\nnever, \\nback, \\nday, \\nstill, \\ntalk, \\nhit                   \n",
       "3  much, \\nbad, \\nmove, \\nwrong, \\nstay, \\nthink, \\nlandlord, \\nbreak, \\nslap, \\nex                     \n",
       "4  strangle, \\nlaugh, \\nhappen, \\nnever, \\ns, \\nlast, \\ngood, \\nfight, \\nmom, \\nuse                     \n",
       "\n",
       "   corpus  \n",
       "0  Reddit  \n",
       "1  Reddit  \n",
       "2  Reddit  \n",
       "3  Reddit  \n",
       "4  Reddit  "
      ]
     },
     "execution_count": 114,
     "metadata": {},
     "output_type": "execute_result"
    }
   ],
   "source": [
    "df_dt=df_top10words[0:5]\n",
    "df_dt"
   ]
  },
  {
   "cell_type": "code",
   "execution_count": 115,
   "id": "5b9305d3",
   "metadata": {},
   "outputs": [
    {
     "data": {
      "image/png": "[encoded data removed]",
      "text/plain": [
       "<Figure size 720x720 with 4 Axes>"
      ]
     },
     "metadata": {
      "needs_background": "light"
     },
     "output_type": "display_data"
    }
   ],
   "source": [
    "# 1. Wordcloud of Top N words in each topic\n",
    "from matplotlib import pyplot as plt\n",
    "from wordcloud import WordCloud, STOPWORDS\n",
    "import matplotlib.colors as mcolors\n",
    "\n",
    "cols = [color for name, color in mcolors.TABLEAU_COLORS.items()]  # more colors: 'mcolors.XKCD_COLORS'\n",
    "\n",
    "cloud = WordCloud(stopwords=stop_words,\n",
    "                  background_color='white',\n",
    "                  width=2500,\n",
    "                  height=1800,\n",
    "                  max_words=10,\n",
    "                  colormap='tab10',\n",
    "                  color_func=lambda *args, **kwargs: cols[i],\n",
    "                  prefer_horizontal=1.0)\n",
    "\n",
    "topics = lda_model.show_topics(formatted=False)\n",
    "\n",
    "fig, axes = plt.subplots(2, 2, figsize=(10,10), sharex=True, sharey=True)\n",
    "\n",
    "for i, ax in enumerate(axes.flatten()):\n",
    "    fig.add_subplot(ax)\n",
    "    topic_words = dict(topics[i][1])\n",
    "    cloud.generate_from_frequencies(topic_words, max_font_size=300)\n",
    "    plt.gca().imshow(cloud)\n",
    "    plt.gca().set_title('Topic ' + str(i), fontdict=dict(size=16))\n",
    "    plt.gca().axis('off')\n",
    "\n",
    "\n",
    "plt.subplots_adjust(wspace=0, hspace=0)\n",
    "plt.axis('off')\n",
    "plt.margins(x=0, y=0)\n",
    "plt.tight_layout()\n",
    "plt.show()"
   ]
  }
 ],
 "metadata": {
  "kernelspec": {
   "display_name": "Python 3",
   "language": "python",
   "name": "python3"
  },
  "language_info": {
   "codemirror_mode": {
    "name": "ipython",
    "version": 3
   },
   "file_extension": ".py",
   "mimetype": "text/x-python",
   "name": "python",
   "nbconvert_exporter": "python",
   "pygments_lexer": "ipython3",
   "version": "3.8.8"
  }
 },
 "nbformat": 4,
 "nbformat_minor": 5
}
