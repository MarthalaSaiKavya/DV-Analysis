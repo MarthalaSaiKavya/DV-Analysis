{
 "cells": [
  {
   "cell_type": "code",
   "execution_count": 51,
   "id": "d88eb7d8",
   "metadata": {},
   "outputs": [],
   "source": [
    "from pprint import pprint \n",
    "import pandas as pd\n",
    "import numpy as np\n",
    "import matplotlib.pyplot as plt\n",
    "import seaborn as sns"
   ]
  },
  {
   "cell_type": "code",
   "execution_count": 52,
   "id": "40537a0e",
   "metadata": {},
   "outputs": [],
   "source": [
    "import praw\n",
    "user_agent=\"Scraper 1.0 by /u/kav_yay\"\n",
    "reddit=praw.Reddit(\n",
    "client_id=\"YCp6d62ye13q-A\",\n",
    "client_secret=\"ytcu1vnZJyHO_pK2PZC_fX2Q6ImfSA\",\n",
    "user_agent=user_agent\n",
    ")"
   ]
  },
  {
   "cell_type": "code",
   "execution_count": 53,
   "id": "43659f5e",
   "metadata": {},
   "outputs": [],
   "source": [
    "flairs=[\"TW Multiple Trigger Warning\", \"TW Physical Violence\", \"Preparing To Leave\", \"TW: Threats of Violence\"] \n",
    "dv = []\n",
    "ml_subreddit = reddit.subreddit('domesticviolence')\n",
    "for flair in flairs:\n",
    "    for post in ml_subreddit.search(flair,limit=None):\n",
    "        dv.append([post.title, post.num_comments, post.selftext, flair])"
   ]
  },
  {
   "cell_type": "code",
   "execution_count": 54,
   "id": "81225480",
   "metadata": {},
   "outputs": [
    {
     "data": {
      "text/html": [
       "<div>\n",
       "<style scoped>\n",
       "    .dataframe tbody tr th:only-of-type {\n",
       "        vertical-align: middle;\n",
       "    }\n",
       "\n",
       "    .dataframe tbody tr th {\n",
       "        vertical-align: top;\n",
       "    }\n",
       "\n",
       "    .dataframe thead th {\n",
       "        text-align: right;\n",
       "    }\n",
       "</style>\n",
       "<table border=\"1\" class=\"dataframe\">\n",
       "  <thead>\n",
       "    <tr style=\"text-align: right;\">\n",
       "      <th></th>\n",
       "      <th>title</th>\n",
       "      <th>num_comments</th>\n",
       "      <th>body</th>\n",
       "      <th>flair</th>\n",
       "    </tr>\n",
       "  </thead>\n",
       "  <tbody>\n",
       "    <tr>\n",
       "      <th>0</th>\n",
       "      <td>It does get better.</td>\n",
       "      <td>2</td>\n",
       "      <td>First time poster. I just needed to get it out...</td>\n",
       "      <td>TW Multiple Trigger Warning</td>\n",
       "    </tr>\n",
       "    <tr>\n",
       "      <th>1</th>\n",
       "      <td>My [23M] girlfriend [26F] takes play-fighting/...</td>\n",
       "      <td>1</td>\n",
       "      <td>**Shes stronger than me as I was not born male...</td>\n",
       "      <td>TW Physical Violence</td>\n",
       "    </tr>\n",
       "    <tr>\n",
       "      <th>2</th>\n",
       "      <td>if i consent to it is it abuse?</td>\n",
       "      <td>22</td>\n",
       "      <td>TW physical violence, sex. \\n\\nI’m sorry to as...</td>\n",
       "      <td>TW Physical Violence</td>\n",
       "    </tr>\n",
       "    <tr>\n",
       "      <th>3</th>\n",
       "      <td>Were my parents being abusive toward each othe...</td>\n",
       "      <td>3</td>\n",
       "      <td>TW: Physical and Emotional Violence? (Unsure i...</td>\n",
       "      <td>TW Physical Violence</td>\n",
       "    </tr>\n",
       "    <tr>\n",
       "      <th>4</th>\n",
       "      <td>Male Victim of Domestic Violence - Never Thoug...</td>\n",
       "      <td>12</td>\n",
       "      <td>**Backstory**: I (25M) started dating a girl (...</td>\n",
       "      <td>TW Physical Violence</td>\n",
       "    </tr>\n",
       "  </tbody>\n",
       "</table>\n",
       "</div>"
      ],
      "text/plain": [
       "                                               title  num_comments  \\\n",
       "0                                It does get better.             2   \n",
       "1  My [23M] girlfriend [26F] takes play-fighting/...             1   \n",
       "2                    if i consent to it is it abuse?            22   \n",
       "3  Were my parents being abusive toward each othe...             3   \n",
       "4  Male Victim of Domestic Violence - Never Thoug...            12   \n",
       "\n",
       "                                                body  \\\n",
       "0  First time poster. I just needed to get it out...   \n",
       "1  **Shes stronger than me as I was not born male...   \n",
       "2  TW physical violence, sex. \\n\\nI’m sorry to as...   \n",
       "3  TW: Physical and Emotional Violence? (Unsure i...   \n",
       "4  **Backstory**: I (25M) started dating a girl (...   \n",
       "\n",
       "                         flair  \n",
       "0  TW Multiple Trigger Warning  \n",
       "1         TW Physical Violence  \n",
       "2         TW Physical Violence  \n",
       "3         TW Physical Violence  \n",
       "4         TW Physical Violence  "
      ]
     },
     "execution_count": 54,
     "metadata": {},
     "output_type": "execute_result"
    }
   ],
   "source": [
    "df=pd.DataFrame(dv,columns=['title', 'num_comments', 'body', 'flair'])\n",
    "df.head()"
   ]
  },
  {
   "cell_type": "code",
   "execution_count": 55,
   "id": "e16d12ee",
   "metadata": {},
   "outputs": [],
   "source": [
    "df.to_csv('DV1.csv',header=False,encoding='utf-8',index=False)"
   ]
  },
  {
   "cell_type": "code",
   "execution_count": null,
   "id": "c321a300",
   "metadata": {},
   "outputs": [],
   "source": [
    "import nltk\n"
   ]
  },
  {
   "cell_type": "code",
   "execution_count": null,
   "id": "9b11d7e6",
   "metadata": {},
   "outputs": [],
   "source": [
    "\n",
    "\n",
    "\n"
   ]
  }
 ],
 "metadata": {
  "kernelspec": {
   "display_name": "Python 3",
   "language": "python",
   "name": "python3"
  },
  "language_info": {
   "codemirror_mode": {
    "name": "ipython",
    "version": 3
   },
   "file_extension": ".py",
   "mimetype": "text/x-python",
   "name": "python",
   "nbconvert_exporter": "python",
   "pygments_lexer": "ipython3",
   "version": "3.8.8"
  }
 },
 "nbformat": 4,
 "nbformat_minor": 5
}
